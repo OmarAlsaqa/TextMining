{
  "nbformat": 4,
  "nbformat_minor": 0,
  "metadata": {
    "colab": {
      "name": "text-mining.ipynb",
      "provenance": [],
      "collapsed_sections": [],
      "authorship_tag": "ABX9TyPFj5c+8cOCm2lG5JsAVD7h",
      "include_colab_link": true
    },
    "kernelspec": {
      "name": "python3",
      "display_name": "Python 3"
    }
  },
  "cells": [
    {
      "cell_type": "markdown",
      "metadata": {
        "id": "view-in-github",
        "colab_type": "text"
      },
      "source": [
        "<a href=\"https://colab.research.google.com/github/OmarAlsaqa/TextMining/blob/master/text_mining.ipynb\" target=\"_parent\"><img src=\"https://colab.research.google.com/assets/colab-badge.svg\" alt=\"Open In Colab\"/></a>"
      ]
    },
    {
      "cell_type": "code",
      "metadata": {
        "id": "yd1UH7efY4iw",
        "colab_type": "code",
        "outputId": "a7227b75-ccbe-4b49-af92-1887aa226770",
        "colab": {
          "base_uri": "https://localhost:8080/",
          "height": 428
        }
      },
      "source": [
        "!pip install -r requirements.txt"
      ],
      "execution_count": 11,
      "outputs": [
        {
          "output_type": "stream",
          "text": [
            "Collecting topic-modelling-tools\n",
            "\u001b[?25l  Downloading https://files.pythonhosted.org/packages/63/2a/a698ea089227c5b1be7923e69f069f99f87b37076a4995502c6e1886a0c7/topic-modelling-tools-0.7.dev0.tar.gz (4.0MB)\n",
            "\u001b[K     |████████████████████████████████| 4.0MB 2.8MB/s \n",
            "\u001b[?25hRequirement already satisfied: matplotlib>=1.4.3 in /usr/local/lib/python3.6/dist-packages (from -r /content/text-mining-tutorial/requirements.txt (line 2)) (3.2.1)\n",
            "Requirement already satisfied: numpy>=1.13.3 in /usr/local/lib/python3.6/dist-packages (from -r /content/text-mining-tutorial/requirements.txt (line 3)) (1.18.4)\n",
            "Requirement already satisfied: nltk>=3.2.4 in /usr/local/lib/python3.6/dist-packages (from -r /content/text-mining-tutorial/requirements.txt (line 4)) (3.2.5)\n",
            "Requirement already satisfied: pandas>=0.20.3 in /usr/local/lib/python3.6/dist-packages (from -r /content/text-mining-tutorial/requirements.txt (line 5)) (1.0.3)\n",
            "Requirement already satisfied: scipy>=0.19.1 in /usr/local/lib/python3.6/dist-packages (from -r /content/text-mining-tutorial/requirements.txt (line 6)) (1.4.1)\n",
            "Requirement already satisfied: Cython>=0.20.1 in /usr/local/lib/python3.6/dist-packages (from -r /content/text-mining-tutorial/requirements.txt (line 7)) (0.29.17)\n",
            "Requirement already satisfied: python-dateutil>=2.1 in /usr/local/lib/python3.6/dist-packages (from matplotlib>=1.4.3->-r /content/text-mining-tutorial/requirements.txt (line 2)) (2.8.1)\n",
            "Requirement already satisfied: kiwisolver>=1.0.1 in /usr/local/lib/python3.6/dist-packages (from matplotlib>=1.4.3->-r /content/text-mining-tutorial/requirements.txt (line 2)) (1.2.0)\n",
            "Requirement already satisfied: pyparsing!=2.0.4,!=2.1.2,!=2.1.6,>=2.0.1 in /usr/local/lib/python3.6/dist-packages (from matplotlib>=1.4.3->-r /content/text-mining-tutorial/requirements.txt (line 2)) (2.4.7)\n",
            "Requirement already satisfied: cycler>=0.10 in /usr/local/lib/python3.6/dist-packages (from matplotlib>=1.4.3->-r /content/text-mining-tutorial/requirements.txt (line 2)) (0.10.0)\n",
            "Requirement already satisfied: six in /usr/local/lib/python3.6/dist-packages (from nltk>=3.2.4->-r /content/text-mining-tutorial/requirements.txt (line 4)) (1.12.0)\n",
            "Requirement already satisfied: pytz>=2017.2 in /usr/local/lib/python3.6/dist-packages (from pandas>=0.20.3->-r /content/text-mining-tutorial/requirements.txt (line 5)) (2018.9)\n",
            "Building wheels for collected packages: topic-modelling-tools\n",
            "  Building wheel for topic-modelling-tools (setup.py) ... \u001b[?25l\u001b[?25hdone\n",
            "  Created wheel for topic-modelling-tools: filename=topic_modelling_tools-0.7.dev0-cp36-cp36m-linux_x86_64.whl size=337191 sha256=e86842e53cbf73e2fffa1c07ed33ab747ef6e3b48d7b25a1fde0486f1b1dae23\n",
            "  Stored in directory: /root/.cache/pip/wheels/05/32/d1/7832c24891b653d65193ea8e444ba088d7b581a9668582bc29\n",
            "Successfully built topic-modelling-tools\n",
            "Installing collected packages: topic-modelling-tools\n",
            "Successfully installed topic-modelling-tools-0.7.dev0\n"
          ],
          "name": "stdout"
        }
      ]
    },
    {
      "cell_type": "code",
      "metadata": {
        "id": "whBry89LZv5I",
        "colab_type": "code",
        "colab": {}
      },
      "source": [
        "%matplotlib inline\n",
        "import matplotlib\n",
        "import numpy as np\n",
        "import matplotlib.pyplot as plt\n",
        "\n",
        "import pandas as pd"
      ],
      "execution_count": 0,
      "outputs": []
    },
    {
      "cell_type": "code",
      "metadata": {
        "id": "41LxEXuJaRIJ",
        "colab_type": "code",
        "colab": {}
      },
      "source": [
        "data = pd.read_table(\"/content/speech_data_extend.txt\",encoding=\"utf-8\")"
      ],
      "execution_count": 0,
      "outputs": []
    },
    {
      "cell_type": "code",
      "metadata": {
        "id": "Q90LyRJmaSj3",
        "colab_type": "code",
        "outputId": "fc665d0f-39bd-48bd-dac1-b2f534cc8fea",
        "colab": {
          "base_uri": "https://localhost:8080/",
          "height": 36
        }
      },
      "source": [
        "data.columns"
      ],
      "execution_count": 14,
      "outputs": [
        {
          "output_type": "execute_result",
          "data": {
            "text/plain": [
              "Index(['president', 'speech', 'year'], dtype='object')"
            ]
          },
          "metadata": {
            "tags": []
          },
          "execution_count": 14
        }
      ]
    },
    {
      "cell_type": "code",
      "metadata": {
        "id": "o_i5s9hraXZu",
        "colab_type": "code",
        "outputId": "be1f62dd-bc83-42a3-faa6-e5e004a92be7",
        "colab": {
          "base_uri": "https://localhost:8080/",
          "height": 36
        }
      },
      "source": [
        "data = data[data.year >= 1947]\n",
        "len(data) # The number of documents (paragraphs of State of the Union Addresses) in the dataset"
      ],
      "execution_count": 15,
      "outputs": [
        {
          "output_type": "execute_result",
          "data": {
            "text/plain": [
              "9488"
            ]
          },
          "metadata": {
            "tags": []
          },
          "execution_count": 15
        }
      ]
    },
    {
      "cell_type": "code",
      "metadata": {
        "id": "EGarHlFCaace",
        "colab_type": "code",
        "colab": {}
      },
      "source": [
        "import topicmodels"
      ],
      "execution_count": 0,
      "outputs": []
    },
    {
      "cell_type": "code",
      "metadata": {
        "id": "88BEr-Hyacmc",
        "colab_type": "code",
        "colab": {}
      },
      "source": [
        "docsobj = topicmodels.RawDocs(data.speech, \"long\")"
      ],
      "execution_count": 0,
      "outputs": []
    },
    {
      "cell_type": "code",
      "metadata": {
        "id": "faEQHupwag6t",
        "colab_type": "code",
        "outputId": "44313b43-6ed0-4d21-f3a0-33889930165a",
        "colab": {
          "base_uri": "https://localhost:8080/",
          "height": 74
        }
      },
      "source": [
        "print(data.speech.values[3]) # fourth paragraph (note that Python uses 0-indexing)\n",
        "print(docsobj.tokens[3])"
      ],
      "execution_count": 18,
      "outputs": [
        {
          "output_type": "stream",
          "text": [
            "I come also to welcome you as you take up your duties and to discuss with you the manner in which you and I should fulfill our obligations to the American people during the next 2 years. \n",
            "['i', 'come', 'also', 'to', 'welcome', 'you', 'as', 'you', 'take', 'up', 'your', 'duties', 'and', 'to', 'discuss', 'with', 'you', 'the', 'manner', 'in', 'which', 'you', 'and', 'i', 'should', 'fulfill', 'our', 'obligations', 'to', 'the', 'american', 'people', 'during', 'the', 'next', '2', 'years', '.']\n"
          ],
          "name": "stdout"
        }
      ]
    },
    {
      "cell_type": "code",
      "metadata": {
        "id": "lNowrNn4ajZ1",
        "colab_type": "code",
        "colab": {}
      },
      "source": [
        "docsobj.token_clean(1)"
      ],
      "execution_count": 0,
      "outputs": []
    },
    {
      "cell_type": "code",
      "metadata": {
        "id": "qF6fI7whanlh",
        "colab_type": "code",
        "outputId": "9c169134-1718-4724-e17a-027f8965a4ff",
        "colab": {
          "base_uri": "https://localhost:8080/",
          "height": 56
        }
      },
      "source": [
        "print(docsobj.tokens[3])"
      ],
      "execution_count": 20,
      "outputs": [
        {
          "output_type": "stream",
          "text": [
            "['come', 'also', 'to', 'welcome', 'you', 'as', 'you', 'take', 'up', 'your', 'duties', 'and', 'to', 'discuss', 'with', 'you', 'the', 'manner', 'in', 'which', 'you', 'and', 'should', 'fulfill', 'our', 'obligations', 'to', 'the', 'american', 'people', 'during', 'the', 'next', 'years']\n"
          ],
          "name": "stdout"
        }
      ]
    },
    {
      "cell_type": "code",
      "metadata": {
        "id": "ZQJtPT2waojC",
        "colab_type": "code",
        "outputId": "64eff605-7d19-4515-8e2d-ffc29acb2883",
        "colab": {
          "base_uri": "https://localhost:8080/",
          "height": 36
        }
      },
      "source": [
        "docsobj.stopword_remove(\"tokens\")\n",
        "print(docsobj.tokens[3])"
      ],
      "execution_count": 21,
      "outputs": [
        {
          "output_type": "stream",
          "text": [
            "['come', 'welcome', 'duties', 'discuss', 'manner', 'fulfill', 'obligations', 'american', 'people', 'next', 'years']\n"
          ],
          "name": "stdout"
        }
      ]
    },
    {
      "cell_type": "code",
      "metadata": {
        "id": "H7lsIjEsaqIk",
        "colab_type": "code",
        "outputId": "4d28c213-0872-4947-9c80-4a0df1dca821",
        "colab": {
          "base_uri": "https://localhost:8080/",
          "height": 36
        }
      },
      "source": [
        "docsobj.stem()\n",
        "print(docsobj.stems[3])\n",
        "docsobj.stopword_remove(\"stems\")"
      ],
      "execution_count": 22,
      "outputs": [
        {
          "output_type": "stream",
          "text": [
            "['come', 'welcom', 'duti', 'discuss', 'manner', 'fulfil', 'oblig', 'american', 'peopl', 'next', 'year']\n"
          ],
          "name": "stdout"
        }
      ]
    },
    {
      "cell_type": "code",
      "metadata": {
        "id": "Lj5-ZstHasXB",
        "colab_type": "code",
        "colab": {}
      },
      "source": [
        "docsobj.term_rank(\"stems\")"
      ],
      "execution_count": 0,
      "outputs": []
    },
    {
      "cell_type": "code",
      "metadata": {
        "id": "t4pEQGIsauSL",
        "colab_type": "code",
        "outputId": "ee510937-8b3a-4efa-ad80-9b2193798c62",
        "colab": {
          "base_uri": "https://localhost:8080/",
          "height": 284
        }
      },
      "source": [
        "plt.plot([x[1] for x in docsobj.tfidf_ranking])"
      ],
      "execution_count": 24,
      "outputs": [
        {
          "output_type": "execute_result",
          "data": {
            "text/plain": [
              "[<matplotlib.lines.Line2D at 0x7f29e2a53eb8>]"
            ]
          },
          "metadata": {
            "tags": []
          },
          "execution_count": 24
        },
        {
          "output_type": "display_data",
          "data": {
            "image/png": "[encoded data removed]",
            "text/plain": [
              "<Figure size 432x288 with 1 Axes>"
            ]
          },
          "metadata": {
            "tags": [],
            "needs_background": "light"
          }
        }
      ]
    },
    {
      "cell_type": "code",
      "metadata": {
        "id": "aQqjV64Rav27",
        "colab_type": "code",
        "outputId": "b04cbafb-7c71-4113-b5cb-7f1b7bfa838d",
        "colab": {
          "base_uri": "https://localhost:8080/",
          "height": 54
        }
      },
      "source": [
        "docsobj.rank_remove(\"tfidf\",\"stems\",docsobj.tfidf_ranking[5000][1])\n",
        "all_stems = [s for d in docsobj.stems for s in d]\n",
        "print(\"number of unique stems = %d\" % len(set(all_stems)))\n",
        "print(\"number of total stems = %d\" % len(all_stems))"
      ],
      "execution_count": 25,
      "outputs": [
        {
          "output_type": "stream",
          "text": [
            "number of unique stems = 4742\n",
            "number of total stems = 250000\n"
          ],
          "name": "stdout"
        }
      ]
    },
    {
      "cell_type": "code",
      "metadata": {
        "id": "RMYz_cZHaxV0",
        "colab_type": "code",
        "colab": {}
      },
      "source": [
        "ldaobj = topicmodels.LDA.LDAGibbs(docsobj.stems,30)"
      ],
      "execution_count": 0,
      "outputs": []
    },
    {
      "cell_type": "code",
      "metadata": {
        "id": "yyPY1fy_azEs",
        "colab_type": "code",
        "outputId": "58f78992-3d37-4e50-8ca1-ae8a20b8ca94",
        "colab": {
          "base_uri": "https://localhost:8080/",
          "height": 73
        }
      },
      "source": [
        "print(ldaobj.K) # number of topic, user defined.\n",
        "print(ldaobj.alpha) # hyperparameter for document-topic distribution, automatically defined\n",
        "print(ldaobj.beta) # hyperparameter for topics, automatically defined"
      ],
      "execution_count": 27,
      "outputs": [
        {
          "output_type": "stream",
          "text": [
            "30\n",
            "1.6666666666666667\n",
            "0.04217629692113033\n"
          ],
          "name": "stdout"
        }
      ]
    },
    {
      "cell_type": "code",
      "metadata": {
        "id": "i0FxJ7KZa0qo",
        "colab_type": "code",
        "outputId": "8006f8e7-df0d-4de7-9a50-c645e7af0a41",
        "colab": {
          "base_uri": "https://localhost:8080/",
          "height": 54
        }
      },
      "source": [
        "print(ldaobj.topic_seed[:10])\n",
        "print(ldaobj.topic_seed.shape)"
      ],
      "execution_count": 28,
      "outputs": [
        {
          "output_type": "stream",
          "text": [
            "[ 7 29  6 24 27  7 16  0 25 23]\n",
            "(250000,)\n"
          ],
          "name": "stdout"
        }
      ]
    },
    {
      "cell_type": "code",
      "metadata": {
        "id": "z5dJMPP8a2fN",
        "colab_type": "code",
        "outputId": "9922ebe5-c2e7-42e8-eb0a-dd2bedf878fc",
        "colab": {
          "base_uri": "https://localhost:8080/",
          "height": 950
        }
      },
      "source": [
        "ldaobj.sample(0,50,10)"
      ],
      "execution_count": 29,
      "outputs": [
        {
          "output_type": "stream",
          "text": [
            "Iteration 10 of (collapsed) Gibbs sampling\n",
            "Iteration 20 of (collapsed) Gibbs sampling\n",
            "Iteration 30 of (collapsed) Gibbs sampling\n",
            "Iteration 40 of (collapsed) Gibbs sampling\n",
            "Iteration 50 of (collapsed) Gibbs sampling\n",
            "Iteration 60 of (collapsed) Gibbs sampling\n",
            "Iteration 70 of (collapsed) Gibbs sampling\n",
            "Iteration 80 of (collapsed) Gibbs sampling\n",
            "Iteration 90 of (collapsed) Gibbs sampling\n",
            "Iteration 100 of (collapsed) Gibbs sampling\n",
            "Iteration 110 of (collapsed) Gibbs sampling\n",
            "Iteration 120 of (collapsed) Gibbs sampling\n",
            "Iteration 130 of (collapsed) Gibbs sampling\n",
            "Iteration 140 of (collapsed) Gibbs sampling\n",
            "Iteration 150 of (collapsed) Gibbs sampling\n",
            "Iteration 160 of (collapsed) Gibbs sampling\n",
            "Iteration 170 of (collapsed) Gibbs sampling\n",
            "Iteration 180 of (collapsed) Gibbs sampling\n",
            "Iteration 190 of (collapsed) Gibbs sampling\n",
            "Iteration 200 of (collapsed) Gibbs sampling\n",
            "Iteration 210 of (collapsed) Gibbs sampling\n",
            "Iteration 220 of (collapsed) Gibbs sampling\n",
            "Iteration 230 of (collapsed) Gibbs sampling\n",
            "Iteration 240 of (collapsed) Gibbs sampling\n",
            "Iteration 250 of (collapsed) Gibbs sampling\n",
            "Iteration 260 of (collapsed) Gibbs sampling\n",
            "Iteration 270 of (collapsed) Gibbs sampling\n",
            "Iteration 280 of (collapsed) Gibbs sampling\n",
            "Iteration 290 of (collapsed) Gibbs sampling\n",
            "Iteration 300 of (collapsed) Gibbs sampling\n",
            "Iteration 310 of (collapsed) Gibbs sampling\n",
            "Iteration 320 of (collapsed) Gibbs sampling\n",
            "Iteration 330 of (collapsed) Gibbs sampling\n",
            "Iteration 340 of (collapsed) Gibbs sampling\n",
            "Iteration 350 of (collapsed) Gibbs sampling\n",
            "Iteration 360 of (collapsed) Gibbs sampling\n",
            "Iteration 370 of (collapsed) Gibbs sampling\n",
            "Iteration 380 of (collapsed) Gibbs sampling\n",
            "Iteration 390 of (collapsed) Gibbs sampling\n",
            "Iteration 400 of (collapsed) Gibbs sampling\n",
            "Iteration 410 of (collapsed) Gibbs sampling\n",
            "Iteration 420 of (collapsed) Gibbs sampling\n",
            "Iteration 430 of (collapsed) Gibbs sampling\n",
            "Iteration 440 of (collapsed) Gibbs sampling\n",
            "Iteration 450 of (collapsed) Gibbs sampling\n",
            "Iteration 460 of (collapsed) Gibbs sampling\n",
            "Iteration 470 of (collapsed) Gibbs sampling\n",
            "Iteration 480 of (collapsed) Gibbs sampling\n",
            "Iteration 490 of (collapsed) Gibbs sampling\n",
            "Iteration 500 of (collapsed) Gibbs sampling\n"
          ],
          "name": "stdout"
        }
      ]
    },
    {
      "cell_type": "code",
      "metadata": {
        "id": "hffRPv1za4TV",
        "colab_type": "code",
        "outputId": "eff18830-317e-4f7d-cc2b-e1eba42dfbf8",
        "colab": {
          "base_uri": "https://localhost:8080/",
          "height": 73
        }
      },
      "source": [
        "ldaobj.perplexity()"
      ],
      "execution_count": 30,
      "outputs": [
        {
          "output_type": "execute_result",
          "data": {
            "text/plain": [
              "array([908.45723705, 868.88383707, 855.9895376 , 852.49862492,\n",
              "       850.37470056, 847.12602857, 844.73855171, 844.76150178,\n",
              "       842.94967346, 842.09092929])"
            ]
          },
          "metadata": {
            "tags": []
          },
          "execution_count": 30
        }
      ]
    },
    {
      "cell_type": "code",
      "metadata": {
        "id": "GnNGvNbAa6Dg",
        "colab_type": "code",
        "outputId": "f3de4b14-cd0e-4765-8224-128a0d78ed1a",
        "colab": {
          "base_uri": "https://localhost:8080/",
          "height": 950
        }
      },
      "source": [
        "ldaobj.sample(0,50,10)"
      ],
      "execution_count": 31,
      "outputs": [
        {
          "output_type": "stream",
          "text": [
            "Iteration 10 of (collapsed) Gibbs sampling\n",
            "Iteration 20 of (collapsed) Gibbs sampling\n",
            "Iteration 30 of (collapsed) Gibbs sampling\n",
            "Iteration 40 of (collapsed) Gibbs sampling\n",
            "Iteration 50 of (collapsed) Gibbs sampling\n",
            "Iteration 60 of (collapsed) Gibbs sampling\n",
            "Iteration 70 of (collapsed) Gibbs sampling\n",
            "Iteration 80 of (collapsed) Gibbs sampling\n",
            "Iteration 90 of (collapsed) Gibbs sampling\n",
            "Iteration 100 of (collapsed) Gibbs sampling\n",
            "Iteration 110 of (collapsed) Gibbs sampling\n",
            "Iteration 120 of (collapsed) Gibbs sampling\n",
            "Iteration 130 of (collapsed) Gibbs sampling\n",
            "Iteration 140 of (collapsed) Gibbs sampling\n",
            "Iteration 150 of (collapsed) Gibbs sampling\n",
            "Iteration 160 of (collapsed) Gibbs sampling\n",
            "Iteration 170 of (collapsed) Gibbs sampling\n",
            "Iteration 180 of (collapsed) Gibbs sampling\n",
            "Iteration 190 of (collapsed) Gibbs sampling\n",
            "Iteration 200 of (collapsed) Gibbs sampling\n",
            "Iteration 210 of (collapsed) Gibbs sampling\n",
            "Iteration 220 of (collapsed) Gibbs sampling\n",
            "Iteration 230 of (collapsed) Gibbs sampling\n",
            "Iteration 240 of (collapsed) Gibbs sampling\n",
            "Iteration 250 of (collapsed) Gibbs sampling\n",
            "Iteration 260 of (collapsed) Gibbs sampling\n",
            "Iteration 270 of (collapsed) Gibbs sampling\n",
            "Iteration 280 of (collapsed) Gibbs sampling\n",
            "Iteration 290 of (collapsed) Gibbs sampling\n",
            "Iteration 300 of (collapsed) Gibbs sampling\n",
            "Iteration 310 of (collapsed) Gibbs sampling\n",
            "Iteration 320 of (collapsed) Gibbs sampling\n",
            "Iteration 330 of (collapsed) Gibbs sampling\n",
            "Iteration 340 of (collapsed) Gibbs sampling\n",
            "Iteration 350 of (collapsed) Gibbs sampling\n",
            "Iteration 360 of (collapsed) Gibbs sampling\n",
            "Iteration 370 of (collapsed) Gibbs sampling\n",
            "Iteration 380 of (collapsed) Gibbs sampling\n",
            "Iteration 390 of (collapsed) Gibbs sampling\n",
            "Iteration 400 of (collapsed) Gibbs sampling\n",
            "Iteration 410 of (collapsed) Gibbs sampling\n",
            "Iteration 420 of (collapsed) Gibbs sampling\n",
            "Iteration 430 of (collapsed) Gibbs sampling\n",
            "Iteration 440 of (collapsed) Gibbs sampling\n",
            "Iteration 450 of (collapsed) Gibbs sampling\n",
            "Iteration 460 of (collapsed) Gibbs sampling\n",
            "Iteration 470 of (collapsed) Gibbs sampling\n",
            "Iteration 480 of (collapsed) Gibbs sampling\n",
            "Iteration 490 of (collapsed) Gibbs sampling\n",
            "Iteration 500 of (collapsed) Gibbs sampling\n"
          ],
          "name": "stdout"
        }
      ]
    },
    {
      "cell_type": "code",
      "metadata": {
        "id": "85sBF_pya7XG",
        "colab_type": "code",
        "outputId": "76e337a2-6091-4087-a6aa-c8497cf5f93f",
        "colab": {
          "base_uri": "https://localhost:8080/",
          "height": 110
        }
      },
      "source": [
        "ldaobj.perplexity()"
      ],
      "execution_count": 32,
      "outputs": [
        {
          "output_type": "execute_result",
          "data": {
            "text/plain": [
              "array([908.45723705, 868.88383707, 855.9895376 , 852.49862492,\n",
              "       850.37470056, 847.12602857, 844.73855171, 844.76150178,\n",
              "       842.94967346, 842.09092929, 841.94203881, 841.37908661,\n",
              "       840.03977263, 839.75563751, 839.76466705, 841.51703608,\n",
              "       840.48525722, 838.07176109, 838.97779591, 837.74037114])"
            ]
          },
          "metadata": {
            "tags": []
          },
          "execution_count": 32
        }
      ]
    },
    {
      "cell_type": "code",
      "metadata": {
        "id": "1HnS045Ha81U",
        "colab_type": "code",
        "colab": {}
      },
      "source": [
        "ldaobj.samples_keep(4)"
      ],
      "execution_count": 0,
      "outputs": []
    },
    {
      "cell_type": "code",
      "metadata": {
        "id": "XT7vElxva95O",
        "colab_type": "code",
        "outputId": "303788bf-1529-4278-d50a-7f26a9dd2095",
        "colab": {
          "base_uri": "https://localhost:8080/",
          "height": 54
        }
      },
      "source": [
        "print(ldaobj.tt.shape)\n",
        "print(ldaobj.dt.shape)"
      ],
      "execution_count": 34,
      "outputs": [
        {
          "output_type": "stream",
          "text": [
            "(4742, 30, 4)\n",
            "(9488, 30, 4)\n"
          ],
          "name": "stdout"
        }
      ]
    },
    {
      "cell_type": "code",
      "metadata": {
        "id": "ma6Pr4gea_IC",
        "colab_type": "code",
        "colab": {}
      },
      "source": [
        "ldaobj.topic_content(20)"
      ],
      "execution_count": 0,
      "outputs": []
    },
    {
      "cell_type": "code",
      "metadata": {
        "id": "qzuDU0XubAW0",
        "colab_type": "code",
        "colab": {}
      },
      "source": [
        "dt = ldaobj.dt_avg()"
      ],
      "execution_count": 0,
      "outputs": []
    },
    {
      "cell_type": "code",
      "metadata": {
        "id": "sw01vO2gbBpA",
        "colab_type": "code",
        "colab": {}
      },
      "source": [
        "tt = ldaobj.tt_avg()\n",
        "ldaobj.dict_print()"
      ],
      "execution_count": 0,
      "outputs": []
    },
    {
      "cell_type": "code",
      "metadata": {
        "id": "aBMN2BJFbC79",
        "colab_type": "code",
        "colab": {}
      },
      "source": [
        "data = data.drop('speech',1)\n",
        "for i in range(ldaobj.K): data['T' + str(i)] = dt[:,i]\n",
        "data.to_csv(\"final_output.csv\",index=False)"
      ],
      "execution_count": 0,
      "outputs": []
    },
    {
      "cell_type": "code",
      "metadata": {
        "id": "-zbViLSCbJOL",
        "colab_type": "code",
        "colab": {}
      },
      "source": [
        "data['speech'] = [' '.join(s) for s in docsobj.stems] # replace the speech field in the original data with its cleaned version from docsobj\n",
        "aggspeeches = data.groupby(['year','president'])['speech'].apply(lambda x: ' '.join(x)) # aggregate up to the speech level\n",
        "aggdocs = topicmodels.RawDocs(aggspeeches) # create new RawDocs object that contains entire speech stems in aggdocs.tokens\n",
        "queryobj = topicmodels.LDA.QueryGibbs(aggdocs.tokens,ldaobj.token_key,ldaobj.tt) # initialize query object with ldaobj attributes"
      ],
      "execution_count": 0,
      "outputs": []
    },
    {
      "cell_type": "code",
      "metadata": {
        "id": "OnImNbAHbLEZ",
        "colab_type": "code",
        "outputId": "a9c75b01-e744-4e93-a9e7-d4cdfcb4c115",
        "colab": {
          "base_uri": "https://localhost:8080/",
          "height": 92
        }
      },
      "source": [
        "queryobj.query(10) # query our four samples"
      ],
      "execution_count": 40,
      "outputs": [
        {
          "output_type": "stream",
          "text": [
            "Sample 0 queried\n",
            "Sample 1 queried\n",
            "Sample 2 queried\n",
            "Sample 3 queried\n"
          ],
          "name": "stdout"
        }
      ]
    },
    {
      "cell_type": "code",
      "metadata": {
        "id": "J0RrABLSbMWQ",
        "colab_type": "code",
        "outputId": "229608fa-8a07-41e7-8fbf-66fe31302e98",
        "colab": {
          "base_uri": "https://localhost:8080/",
          "height": 36
        }
      },
      "source": [
        "queryobj.perplexity()"
      ],
      "execution_count": 41,
      "outputs": [
        {
          "output_type": "execute_result",
          "data": {
            "text/plain": [
              "array([1234.81457846, 1233.81514649, 1233.7569761 , 1233.62843879])"
            ]
          },
          "metadata": {
            "tags": []
          },
          "execution_count": 41
        }
      ]
    },
    {
      "cell_type": "code",
      "metadata": {
        "id": "5Q5tKPYDbNXw",
        "colab_type": "code",
        "outputId": "0ba44ec5-792f-484f-a30a-c645d2b2b807",
        "colab": {
          "base_uri": "https://localhost:8080/",
          "height": 92
        }
      },
      "source": [
        "queryobj.query(30) # query our four samples using more iterations"
      ],
      "execution_count": 42,
      "outputs": [
        {
          "output_type": "stream",
          "text": [
            "Sample 0 queried\n",
            "Sample 1 queried\n",
            "Sample 2 queried\n",
            "Sample 3 queried\n"
          ],
          "name": "stdout"
        }
      ]
    },
    {
      "cell_type": "code",
      "metadata": {
        "id": "UpHwZn6pbOlT",
        "colab_type": "code",
        "outputId": "3ebd2a99-5ee3-4b58-feff-1b0dddcdadbb",
        "colab": {
          "base_uri": "https://localhost:8080/",
          "height": 36
        }
      },
      "source": [
        "queryobj.perplexity()"
      ],
      "execution_count": 43,
      "outputs": [
        {
          "output_type": "execute_result",
          "data": {
            "text/plain": [
              "array([1234.74609651, 1233.76939035, 1233.71081485, 1233.63186375])"
            ]
          },
          "metadata": {
            "tags": []
          },
          "execution_count": 43
        }
      ]
    },
    {
      "cell_type": "code",
      "metadata": {
        "id": "6iJwzU08bPvf",
        "colab_type": "code",
        "colab": {}
      },
      "source": [
        "dt_query = queryobj.dt_avg()\n",
        "aggdata = pd.DataFrame(dt_query,index=aggspeeches.index,columns=['T' + str(i) for i in range(queryobj.K)])\n",
        "aggdata.to_csv(\"final_output_agg.csv\")"
      ],
      "execution_count": 0,
      "outputs": []
    },
    {
      "cell_type": "code",
      "metadata": {
        "id": "B6oI0P1EbREm",
        "colab_type": "code",
        "colab": {}
      },
      "source": [
        "def top_topics(x):\n",
        "\ttop = x.values.argsort()[-5:][::-1]\n",
        "\treturn(pd.Series(top,index=range(1,6)))\n",
        "\n",
        "temp = aggdata.reset_index()\n",
        "ranking = temp.set_index('president')\n",
        "ranking = ranking - ranking.mean()\n",
        "ranking = ranking.groupby(level='president').mean()\n",
        "ranking = ranking.sort_values('year')\n",
        "ranking = ranking.drop('year',1)\n",
        "ranking = ranking.apply(top_topics,axis=1)\n",
        "ranking.to_csv(\"president_top_topics.csv\")"
      ],
      "execution_count": 0,
      "outputs": []
    },
    {
      "cell_type": "code",
      "metadata": {
        "id": "VJaB3pj9bSso",
        "colab_type": "code",
        "colab": {}
      },
      "source": [
        ""
      ],
      "execution_count": 0,
      "outputs": []
    }
  ]
}